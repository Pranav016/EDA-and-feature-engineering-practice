{
 "cells": [
  {
   "cell_type": "markdown",
   "metadata": {},
   "source": [
    "# EDA and Feature Engineering"
   ]
  },
  {
   "cell_type": "markdown",
   "metadata": {},
   "source": [
    "##  Importing packages"
   ]
  },
  {
   "cell_type": "code",
   "execution_count": 83,
   "metadata": {},
   "outputs": [],
   "source": [
    "import numpy as np\n",
    "import pandas as pd\n",
    "import matplotlib.pyplot as plt\n",
    "import seaborn as sns\n",
    "%matplotlib inline"
   ]
  },
  {
   "cell_type": "code",
   "execution_count": 84,
   "metadata": {},
   "outputs": [
    {
     "data": {
      "text/html": [
       "<div>\n",
       "<style scoped>\n",
       "    .dataframe tbody tr th:only-of-type {\n",
       "        vertical-align: middle;\n",
       "    }\n",
       "\n",
       "    .dataframe tbody tr th {\n",
       "        vertical-align: top;\n",
       "    }\n",
       "\n",
       "    .dataframe thead th {\n",
       "        text-align: right;\n",
       "    }\n",
       "</style>\n",
       "<table border=\"1\" class=\"dataframe\">\n",
       "  <thead>\n",
       "    <tr style=\"text-align: right;\">\n",
       "      <th></th>\n",
       "      <th>name</th>\n",
       "      <th>addr</th>\n",
       "      <th>city</th>\n",
       "      <th>phone</th>\n",
       "      <th>type</th>\n",
       "    </tr>\n",
       "  </thead>\n",
       "  <tbody>\n",
       "    <tr>\n",
       "      <th>0</th>\n",
       "      <td>kokomo</td>\n",
       "      <td>6333 w. third st.</td>\n",
       "      <td>la</td>\n",
       "      <td>2139330773</td>\n",
       "      <td>american</td>\n",
       "    </tr>\n",
       "    <tr>\n",
       "      <th>1</th>\n",
       "      <td>feenix</td>\n",
       "      <td>8358 sunset blvd. west</td>\n",
       "      <td>hollywood</td>\n",
       "      <td>2138486677</td>\n",
       "      <td>american</td>\n",
       "    </tr>\n",
       "    <tr>\n",
       "      <th>2</th>\n",
       "      <td>parkway</td>\n",
       "      <td>510 s. arroyo pkwy .</td>\n",
       "      <td>pasadena</td>\n",
       "      <td>8187951001</td>\n",
       "      <td>californian</td>\n",
       "    </tr>\n",
       "    <tr>\n",
       "      <th>3</th>\n",
       "      <td>r-23</td>\n",
       "      <td>923 e. third st.</td>\n",
       "      <td>los angeles</td>\n",
       "      <td>2136877178</td>\n",
       "      <td>japanese</td>\n",
       "    </tr>\n",
       "    <tr>\n",
       "      <th>4</th>\n",
       "      <td>gumbo</td>\n",
       "      <td>6333 w. third st.</td>\n",
       "      <td>la</td>\n",
       "      <td>2139330358</td>\n",
       "      <td>cajun/creole</td>\n",
       "    </tr>\n",
       "  </tbody>\n",
       "</table>\n",
       "</div>"
      ],
      "text/plain": [
       "      name                      addr         city       phone          type\n",
       "0   kokomo         6333 w. third st.           la  2139330773      american\n",
       "1   feenix   8358 sunset blvd. west     hollywood  2138486677      american\n",
       "2  parkway      510 s. arroyo pkwy .     pasadena  8187951001   californian\n",
       "3     r-23          923 e. third st.  los angeles  2136877178      japanese\n",
       "4    gumbo         6333 w. third st.           la  2139330358  cajun/creole"
      ]
     },
     "execution_count": 84,
     "metadata": {},
     "output_type": "execute_result"
    }
   ],
   "source": [
    "df=pd.read_csv(\"datasets/restaurants_L2_dirty.csv\", index_col=[0])\n",
    "df.head()"
   ]
  },
  {
   "cell_type": "markdown",
   "metadata": {},
   "source": [
    "## Exploring the data"
   ]
  },
  {
   "cell_type": "code",
   "execution_count": 85,
   "metadata": {},
   "outputs": [
    {
     "data": {
      "text/plain": [
       "(82, 5)"
      ]
     },
     "execution_count": 85,
     "metadata": {},
     "output_type": "execute_result"
    }
   ],
   "source": [
    "df.shape"
   ]
  },
  {
   "cell_type": "code",
   "execution_count": 86,
   "metadata": {},
   "outputs": [
    {
     "name": "stdout",
     "output_type": "stream",
     "text": [
      "<class 'pandas.core.frame.DataFrame'>\n",
      "Int64Index: 82 entries, 0 to 81\n",
      "Data columns (total 5 columns):\n",
      " #   Column  Non-Null Count  Dtype \n",
      "---  ------  --------------  ----- \n",
      " 0   name    82 non-null     object\n",
      " 1   addr    82 non-null     object\n",
      " 2   city    82 non-null     object\n",
      " 3   phone   82 non-null     int64 \n",
      " 4   type    82 non-null     object\n",
      "dtypes: int64(1), object(4)\n",
      "memory usage: 3.8+ KB\n"
     ]
    }
   ],
   "source": [
    "df.info()"
   ]
  },
  {
   "cell_type": "code",
   "execution_count": 87,
   "metadata": {},
   "outputs": [
    {
     "data": {
      "text/plain": [
       "<bound method NDFrame.describe of           name                       addr               city       phone  \\\n",
       "0       kokomo          6333 w. third st.                 la  2139330773   \n",
       "1       feenix    8358 sunset blvd. west           hollywood  2138486677   \n",
       "2      parkway       510 s. arroyo pkwy .           pasadena  8187951001   \n",
       "3         r-23           923 e. third st.        los angeles  2136877178   \n",
       "4        gumbo          6333 w. third st.                 la  2139330358   \n",
       "..         ...                        ...                ...         ...   \n",
       "77       feast        1949 westwood blvd.            west la  3104750400   \n",
       "78    mulberry        17040 ventura blvd.             encino  8189068881   \n",
       "79  matsuhissa   129 n. la cienega blvd.       beverly hills  3106599639   \n",
       "80     jiraffe      502 santa monica blvd       santa monica  3109176671   \n",
       "81    martha's  22nd street grill 25 22nd  st. hermosa beach  3103767786   \n",
       "\n",
       "            type  \n",
       "0       american  \n",
       "1       american  \n",
       "2    californian  \n",
       "3       japanese  \n",
       "4   cajun/creole  \n",
       "..           ...  \n",
       "77       chinese  \n",
       "78         pizza  \n",
       "79         asian  \n",
       "80   californian  \n",
       "81      american  \n",
       "\n",
       "[82 rows x 5 columns]>"
      ]
     },
     "execution_count": 87,
     "metadata": {},
     "output_type": "execute_result"
    }
   ],
   "source": [
    "df.describe"
   ]
  },
  {
   "cell_type": "code",
   "execution_count": 88,
   "metadata": {},
   "outputs": [
    {
     "data": {
      "text/plain": [
       "name     object\n",
       "addr     object\n",
       "city     object\n",
       "phone     int64\n",
       "type     object\n",
       "dtype: object"
      ]
     },
     "execution_count": 88,
     "metadata": {},
     "output_type": "execute_result"
    }
   ],
   "source": [
    "df.dtypes"
   ]
  },
  {
   "cell_type": "code",
   "execution_count": 89,
   "metadata": {},
   "outputs": [
    {
     "data": {
      "text/plain": [
       "name     0\n",
       "addr     0\n",
       "city     0\n",
       "phone    0\n",
       "type     0\n",
       "dtype: int64"
      ]
     },
     "execution_count": 89,
     "metadata": {},
     "output_type": "execute_result"
    }
   ],
   "source": [
    "df.isnull().sum()"
   ]
  },
  {
   "cell_type": "code",
   "execution_count": 90,
   "metadata": {},
   "outputs": [
    {
     "data": {
      "text/plain": [
       "array(['american', 'californian', 'japanese', 'cajun/creole', 'hot dogs',\n",
       "       'diners', 'delis', 'hamburgers', 'seafood', 'italian',\n",
       "       'coffee shops', 'russian', 'steakhouses', 'mexican/tex-mex',\n",
       "       'noodle shops', 'mexican', 'middle eastern', 'asian', 'vietnamese',\n",
       "       'health food', 'american ( new )', 'pacific new wave',\n",
       "       'indonesian', 'eclectic', 'chicken', 'fast food', 'southern/soul',\n",
       "       'coffeebar', 'continental', 'french ( new )', 'desserts',\n",
       "       'chinese', 'pizza'], dtype=object)"
      ]
     },
     "execution_count": 90,
     "metadata": {},
     "output_type": "execute_result"
    }
   ],
   "source": [
    "df.type.unique()"
   ]
  },
  {
   "cell_type": "code",
   "execution_count": 91,
   "metadata": {
    "scrolled": true
   },
   "outputs": [
    {
     "data": {
      "text/plain": [
       "array([2139330773, 2138486677, 8187951001, 2136877178, 2139330358,\n",
       "       2139314223, 2136276879, 2125827200, 2134838050, 2139355280,\n",
       "       8185081570, 3103061995, 2129666960, 3104525728, 3103975703,\n",
       "       3102767732, 3108541111, 8189056515, 3108598744, 2132652887,\n",
       "       2127549494, 3108294313, 8187967829, 2137820181, 8054984049,\n",
       "       3102084444, 8185850855, 2126204020, 8187621221, 3104792231,\n",
       "       3106435229, 2136265530, 8187067706, 3103995811, 8187952478,\n",
       "       2136512866, 3104510843, 8183082128, 3108880108, 3104757564,\n",
       "       3102461501, 3108151290, 3105401222, 3105508811, 2136559045,\n",
       "       3108287937, 3104582889, 2127581479, 3104237327, 2136513361,\n",
       "       2136283781, 3103991955, 2134808668, 3102760615, 3103067829,\n",
       "       2124966031, 2134677678, 2123622200, 3106523100, 3103976654,\n",
       "       2136121580, 3104753585, 3107882306, 8185632252, 3104704992,\n",
       "       2136651891, 3104566299, 2123191660, 3105969556, 2139388800,\n",
       "       3102040692, 2123557555, 8188865679, 3102741893, 2139381447,\n",
       "       2136272300, 3102091422, 3104750400, 8189068881, 3106599639,\n",
       "       3109176671, 3103767786], dtype=int64)"
      ]
     },
     "execution_count": 91,
     "metadata": {},
     "output_type": "execute_result"
    }
   ],
   "source": [
    "df.phone.unique()"
   ]
  },
  {
   "cell_type": "code",
   "execution_count": 92,
   "metadata": {},
   "outputs": [
    {
     "data": {
      "text/plain": [
       "array(['la', 'hollywood', 'pasadena', 'los angeles', 'new york',\n",
       "       'studio city', 'venice', 'santa monica', 'mar vista',\n",
       "       'beverly hills', 'w. hollywood', 'encino', 'st. boyle hts .',\n",
       "       'westlake village', 'westwood', 'west la', 'chinatown',\n",
       "       'monterey park', 'rancho park', 'redondo beach', 'long beach',\n",
       "       'marina del rey', 'culver city', 'burbank', 'century city',\n",
       "       'malibu', 'seal beach', 'northridge', 'st. hermosa beach'],\n",
       "      dtype=object)"
      ]
     },
     "execution_count": 92,
     "metadata": {},
     "output_type": "execute_result"
    }
   ],
   "source": [
    "df.city.unique()"
   ]
  },
  {
   "cell_type": "code",
   "execution_count": 93,
   "metadata": {},
   "outputs": [],
   "source": [
    "cities={'studio city':'los angeles', 'santa monika':'los angeles', 'mar vista':'los angeles', 'beverly hills':'los angeles', 'encino':'los angeles', 'st. boyle hts .':'los angeles', 'westwood':'los angeles', 'chinatown':'los angeles', 'moterey park':'los angeles', 'rancho park':'los angeles', 'redondo beach':'los angeles', 'century city':'los angeles', 'marina del rey':'los angeles', 'malibu':'los angeles', 'seal beach':'los angeles', 'northridge':'los angeles','st. hermosa beach':'los angeles'}"
   ]
  },
  {
   "cell_type": "code",
   "execution_count": 94,
   "metadata": {
    "scrolled": false
   },
   "outputs": [
    {
     "data": {
      "text/plain": [
       "0                   la\n",
       "1            hollywood\n",
       "2             pasadena\n",
       "3          los angeles\n",
       "4                   la\n",
       "5                   la\n",
       "6                   la\n",
       "7             new york\n",
       "8                   la\n",
       "9                   la\n",
       "10         los angeles\n",
       "11              venice\n",
       "12            new york\n",
       "13        santa monica\n",
       "14         los angeles\n",
       "15         los angeles\n",
       "16        w. hollywood\n",
       "17         los angeles\n",
       "18         los angeles\n",
       "19         los angeles\n",
       "20            new york\n",
       "21        santa monica\n",
       "22            pasadena\n",
       "23                  la\n",
       "24    westlake village\n",
       "25         los angeles\n",
       "26         los angeles\n",
       "27            new york\n",
       "28         los angeles\n",
       "29             west la\n",
       "Name: city, dtype: object"
      ]
     },
     "execution_count": 94,
     "metadata": {},
     "output_type": "execute_result"
    }
   ],
   "source": [
    "df.city=df.city.replace(cities)\n",
    "df.city.head(30)"
   ]
  },
  {
   "cell_type": "code",
   "execution_count": 98,
   "metadata": {},
   "outputs": [
    {
     "data": {
      "text/plain": [
       "array(['los angeles', 'pasadena', 'new york', 'venice', 'santa monica',\n",
       "       'monterey park', 'long beach', 'culver city', 'burbank'],\n",
       "      dtype=object)"
      ]
     },
     "execution_count": 98,
     "metadata": {},
     "output_type": "execute_result"
    }
   ],
   "source": [
    "df.city=np.where(df.city.str.contains('la')|df.city.str.contains('hollywood'),'los angeles', df['city'])\n",
    "df.city.unique()"
   ]
  },
  {
   "cell_type": "code",
   "execution_count": null,
   "metadata": {},
   "outputs": [],
   "source": []
  },
  {
   "cell_type": "code",
   "execution_count": null,
   "metadata": {},
   "outputs": [],
   "source": []
  },
  {
   "cell_type": "code",
   "execution_count": null,
   "metadata": {},
   "outputs": [],
   "source": []
  },
  {
   "cell_type": "code",
   "execution_count": null,
   "metadata": {},
   "outputs": [],
   "source": []
  },
  {
   "cell_type": "code",
   "execution_count": null,
   "metadata": {},
   "outputs": [],
   "source": []
  },
  {
   "cell_type": "code",
   "execution_count": null,
   "metadata": {},
   "outputs": [],
   "source": []
  },
  {
   "cell_type": "code",
   "execution_count": null,
   "metadata": {},
   "outputs": [],
   "source": []
  },
  {
   "cell_type": "code",
   "execution_count": null,
   "metadata": {},
   "outputs": [],
   "source": []
  },
  {
   "cell_type": "code",
   "execution_count": null,
   "metadata": {},
   "outputs": [],
   "source": []
  },
  {
   "cell_type": "code",
   "execution_count": null,
   "metadata": {},
   "outputs": [],
   "source": []
  },
  {
   "cell_type": "code",
   "execution_count": null,
   "metadata": {},
   "outputs": [],
   "source": []
  },
  {
   "cell_type": "code",
   "execution_count": null,
   "metadata": {},
   "outputs": [],
   "source": []
  }
 ],
 "metadata": {
  "kernelspec": {
   "display_name": "Python 3",
   "language": "python",
   "name": "python3"
  },
  "language_info": {
   "codemirror_mode": {
    "name": "ipython",
    "version": 3
   },
   "file_extension": ".py",
   "mimetype": "text/x-python",
   "name": "python",
   "nbconvert_exporter": "python",
   "pygments_lexer": "ipython3",
   "version": "3.7.7"
  }
 },
 "nbformat": 4,
 "nbformat_minor": 4
}
