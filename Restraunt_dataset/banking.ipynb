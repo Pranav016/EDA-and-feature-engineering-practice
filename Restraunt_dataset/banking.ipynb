{
 "cells": [
  {
   "cell_type": "code",
   "execution_count": 22,
   "metadata": {},
   "outputs": [],
   "source": [
    "import numpy as np\n",
    "import pandas as pd\n",
    "import matplotlib.pyplot as plt\n",
    "import seaborn as sns\n",
    "%matplotlib inline"
   ]
  },
  {
   "cell_type": "code",
   "execution_count": 23,
   "metadata": {},
   "outputs": [
    {
     "data": {
      "text/html": [
       "<div>\n",
       "<style scoped>\n",
       "    .dataframe tbody tr th:only-of-type {\n",
       "        vertical-align: middle;\n",
       "    }\n",
       "\n",
       "    .dataframe tbody tr th {\n",
       "        vertical-align: top;\n",
       "    }\n",
       "\n",
       "    .dataframe thead th {\n",
       "        text-align: right;\n",
       "    }\n",
       "</style>\n",
       "<table border=\"1\" class=\"dataframe\">\n",
       "  <thead>\n",
       "    <tr style=\"text-align: right;\">\n",
       "      <th></th>\n",
       "      <th>cust_id</th>\n",
       "      <th>birth_date</th>\n",
       "      <th>Age</th>\n",
       "      <th>acct_amount</th>\n",
       "      <th>inv_amount</th>\n",
       "      <th>fund_A</th>\n",
       "      <th>fund_B</th>\n",
       "      <th>fund_C</th>\n",
       "      <th>fund_D</th>\n",
       "      <th>account_opened</th>\n",
       "      <th>last_transaction</th>\n",
       "    </tr>\n",
       "  </thead>\n",
       "  <tbody>\n",
       "    <tr>\n",
       "      <th>0</th>\n",
       "      <td>870A9281</td>\n",
       "      <td>1962-06-09</td>\n",
       "      <td>58</td>\n",
       "      <td>63523.31</td>\n",
       "      <td>51295</td>\n",
       "      <td>30105.0</td>\n",
       "      <td>4138.0</td>\n",
       "      <td>1420.0</td>\n",
       "      <td>15632.0</td>\n",
       "      <td>02-09-18</td>\n",
       "      <td>22-02-19</td>\n",
       "    </tr>\n",
       "    <tr>\n",
       "      <th>1</th>\n",
       "      <td>166B05B0</td>\n",
       "      <td>1962-12-16</td>\n",
       "      <td>58</td>\n",
       "      <td>38175.46</td>\n",
       "      <td>15050</td>\n",
       "      <td>4995.0</td>\n",
       "      <td>938.0</td>\n",
       "      <td>6696.0</td>\n",
       "      <td>2421.0</td>\n",
       "      <td>28-02-19</td>\n",
       "      <td>31-10-18</td>\n",
       "    </tr>\n",
       "    <tr>\n",
       "      <th>2</th>\n",
       "      <td>BFC13E88</td>\n",
       "      <td>1990-09-12</td>\n",
       "      <td>34</td>\n",
       "      <td>59863.77</td>\n",
       "      <td>24567</td>\n",
       "      <td>10323.0</td>\n",
       "      <td>4590.0</td>\n",
       "      <td>8469.0</td>\n",
       "      <td>1185.0</td>\n",
       "      <td>25-04-18</td>\n",
       "      <td>02-04-18</td>\n",
       "    </tr>\n",
       "    <tr>\n",
       "      <th>3</th>\n",
       "      <td>F2158F66</td>\n",
       "      <td>1985-11-03</td>\n",
       "      <td>35</td>\n",
       "      <td>84132.10</td>\n",
       "      <td>23712</td>\n",
       "      <td>3908.0</td>\n",
       "      <td>492.0</td>\n",
       "      <td>6482.0</td>\n",
       "      <td>12830.0</td>\n",
       "      <td>07-11-17</td>\n",
       "      <td>08-11-18</td>\n",
       "    </tr>\n",
       "    <tr>\n",
       "      <th>4</th>\n",
       "      <td>7A73F334</td>\n",
       "      <td>1990-05-17</td>\n",
       "      <td>30</td>\n",
       "      <td>120512.00</td>\n",
       "      <td>93230</td>\n",
       "      <td>12158.4</td>\n",
       "      <td>51281.0</td>\n",
       "      <td>13434.0</td>\n",
       "      <td>18383.0</td>\n",
       "      <td>14-05-18</td>\n",
       "      <td>19-07-18</td>\n",
       "    </tr>\n",
       "  </tbody>\n",
       "</table>\n",
       "</div>"
      ],
      "text/plain": [
       "    cust_id  birth_date  Age  acct_amount  inv_amount   fund_A   fund_B  \\\n",
       "0  870A9281  1962-06-09   58     63523.31       51295  30105.0   4138.0   \n",
       "1  166B05B0  1962-12-16   58     38175.46       15050   4995.0    938.0   \n",
       "2  BFC13E88  1990-09-12   34     59863.77       24567  10323.0   4590.0   \n",
       "3  F2158F66  1985-11-03   35     84132.10       23712   3908.0    492.0   \n",
       "4  7A73F334  1990-05-17   30    120512.00       93230  12158.4  51281.0   \n",
       "\n",
       "    fund_C   fund_D account_opened last_transaction  \n",
       "0   1420.0  15632.0       02-09-18         22-02-19  \n",
       "1   6696.0   2421.0       28-02-19         31-10-18  \n",
       "2   8469.0   1185.0       25-04-18         02-04-18  \n",
       "3   6482.0  12830.0       07-11-17         08-11-18  \n",
       "4  13434.0  18383.0       14-05-18         19-07-18  "
      ]
     },
     "execution_count": 23,
     "metadata": {},
     "output_type": "execute_result"
    }
   ],
   "source": [
    "df=pd.read_csv('datasets/banking_dirty.csv', index_col=0)\n",
    "df.head()"
   ]
  },
  {
   "cell_type": "code",
   "execution_count": 24,
   "metadata": {},
   "outputs": [
    {
     "name": "stdout",
     "output_type": "stream",
     "text": [
      "<class 'pandas.core.frame.DataFrame'>\n",
      "Int64Index: 100 entries, 0 to 99\n",
      "Data columns (total 11 columns):\n",
      " #   Column            Non-Null Count  Dtype  \n",
      "---  ------            --------------  -----  \n",
      " 0   cust_id           100 non-null    object \n",
      " 1   birth_date        100 non-null    object \n",
      " 2   Age               100 non-null    int64  \n",
      " 3   acct_amount       100 non-null    float64\n",
      " 4   inv_amount        100 non-null    int64  \n",
      " 5   fund_A            100 non-null    float64\n",
      " 6   fund_B            100 non-null    float64\n",
      " 7   fund_C            100 non-null    float64\n",
      " 8   fund_D            100 non-null    float64\n",
      " 9   account_opened    100 non-null    object \n",
      " 10  last_transaction  100 non-null    object \n",
      "dtypes: float64(5), int64(2), object(4)\n",
      "memory usage: 9.4+ KB\n"
     ]
    }
   ],
   "source": [
    "df.info()"
   ]
  },
  {
   "cell_type": "code",
   "execution_count": 25,
   "metadata": {},
   "outputs": [
    {
     "data": {
      "text/plain": [
       "<bound method NDFrame.describe of      cust_id  birth_date  Age  acct_amount  inv_amount   fund_A   fund_B  \\\n",
       "0   870A9281  1962-06-09   58     63523.31       51295  30105.0   4138.0   \n",
       "1   166B05B0  1962-12-16   58     38175.46       15050   4995.0    938.0   \n",
       "2   BFC13E88  1990-09-12   34     59863.77       24567  10323.0   4590.0   \n",
       "3   F2158F66  1985-11-03   35     84132.10       23712   3908.0    492.0   \n",
       "4   7A73F334  1990-05-17   30    120512.00       93230  12158.4  51281.0   \n",
       "..       ...         ...  ...          ...         ...      ...      ...   \n",
       "95  CA507BA1  1974-08-10   46     12209.84        7515    190.0    931.0   \n",
       "96  B99CD662  1989-12-12   31     92838.44       49089   2453.0   7892.0   \n",
       "97  13770971  1984-11-29   36     92750.87       27962   3352.0   7547.0   \n",
       "98  93E78DA3  1969-12-14   51     41942.23       29662   1758.0  11174.0   \n",
       "99  AC91D689  1993-05-18   27     99490.61       32149   2184.0  17918.0   \n",
       "\n",
       "     fund_C   fund_D account_opened last_transaction  \n",
       "0    1420.0  15632.0       02-09-18         22-02-19  \n",
       "1    6696.0   2421.0       28-02-19         31-10-18  \n",
       "2    8469.0   1185.0       25-04-18         02-04-18  \n",
       "3    6482.0  12830.0       07-11-17         08-11-18  \n",
       "4   13434.0  18383.0       14-05-18         19-07-18  \n",
       "..      ...      ...            ...              ...  \n",
       "95   1451.0   4943.0       26-05-18         11-09-19  \n",
       "96  31486.0   7258.0       04-05-17         12-03-19  \n",
       "97   8486.0   8577.0       16-08-17         24-04-19  \n",
       "98  11650.0   5080.0       09-10-17         15-04-18  \n",
       "99   6714.0   5333.0       01-08-17         04-08-19  \n",
       "\n",
       "[100 rows x 11 columns]>"
      ]
     },
     "execution_count": 25,
     "metadata": {},
     "output_type": "execute_result"
    }
   ],
   "source": [
    "df.describe"
   ]
  },
  {
   "cell_type": "code",
   "execution_count": 26,
   "metadata": {},
   "outputs": [
    {
     "data": {
      "text/plain": [
       "cust_id              object\n",
       "birth_date           object\n",
       "Age                   int64\n",
       "acct_amount         float64\n",
       "inv_amount            int64\n",
       "fund_A              float64\n",
       "fund_B              float64\n",
       "fund_C              float64\n",
       "fund_D              float64\n",
       "account_opened       object\n",
       "last_transaction     object\n",
       "dtype: object"
      ]
     },
     "execution_count": 26,
     "metadata": {},
     "output_type": "execute_result"
    }
   ],
   "source": [
    "df.dtypes"
   ]
  },
  {
   "cell_type": "code",
   "execution_count": 27,
   "metadata": {},
   "outputs": [
    {
     "data": {
      "text/plain": [
       "cust_id                     object\n",
       "birth_date          datetime64[ns]\n",
       "Age                          int64\n",
       "acct_amount                float64\n",
       "inv_amount                   int64\n",
       "fund_A                     float64\n",
       "fund_B                     float64\n",
       "fund_C                     float64\n",
       "fund_D                     float64\n",
       "account_opened      datetime64[ns]\n",
       "last_transaction    datetime64[ns]\n",
       "dtype: object"
      ]
     },
     "execution_count": 27,
     "metadata": {},
     "output_type": "execute_result"
    }
   ],
   "source": [
    "df.birth_date= pd.to_datetime(df.birth_date)\n",
    "df.account_opened=pd.to_datetime(df.account_opened)\n",
    "df.last_transaction=pd.to_datetime(df.last_transaction)\n",
    "df.dtypes"
   ]
  },
  {
   "cell_type": "code",
   "execution_count": 36,
   "metadata": {},
   "outputs": [
    {
     "data": {
      "text/html": [
       "<div>\n",
       "<style scoped>\n",
       "    .dataframe tbody tr th:only-of-type {\n",
       "        vertical-align: middle;\n",
       "    }\n",
       "\n",
       "    .dataframe tbody tr th {\n",
       "        vertical-align: top;\n",
       "    }\n",
       "\n",
       "    .dataframe thead th {\n",
       "        text-align: right;\n",
       "    }\n",
       "</style>\n",
       "<table border=\"1\" class=\"dataframe\">\n",
       "  <thead>\n",
       "    <tr style=\"text-align: right;\">\n",
       "      <th></th>\n",
       "      <th>cust_id</th>\n",
       "      <th>birth_date</th>\n",
       "      <th>Age</th>\n",
       "      <th>acct_amount</th>\n",
       "      <th>inv_amount</th>\n",
       "      <th>fund_A</th>\n",
       "      <th>fund_B</th>\n",
       "      <th>fund_C</th>\n",
       "      <th>fund_D</th>\n",
       "      <th>account_opened</th>\n",
       "      <th>last_transaction</th>\n",
       "      <th>amount</th>\n",
       "      <th>calculated_amt</th>\n",
       "    </tr>\n",
       "  </thead>\n",
       "  <tbody>\n",
       "    <tr>\n",
       "      <th>0</th>\n",
       "      <td>870A9281</td>\n",
       "      <td>1962-06-09</td>\n",
       "      <td>58</td>\n",
       "      <td>63523.31</td>\n",
       "      <td>51295</td>\n",
       "      <td>30105.0</td>\n",
       "      <td>4138.0</td>\n",
       "      <td>1420.0</td>\n",
       "      <td>15632.0</td>\n",
       "      <td>2018-02-09</td>\n",
       "      <td>2019-02-22</td>\n",
       "      <td>51295.0</td>\n",
       "      <td>51295.0</td>\n",
       "    </tr>\n",
       "    <tr>\n",
       "      <th>1</th>\n",
       "      <td>166B05B0</td>\n",
       "      <td>1962-12-16</td>\n",
       "      <td>58</td>\n",
       "      <td>38175.46</td>\n",
       "      <td>15050</td>\n",
       "      <td>4995.0</td>\n",
       "      <td>938.0</td>\n",
       "      <td>6696.0</td>\n",
       "      <td>2421.0</td>\n",
       "      <td>2019-02-28</td>\n",
       "      <td>2018-10-31</td>\n",
       "      <td>15050.0</td>\n",
       "      <td>15050.0</td>\n",
       "    </tr>\n",
       "    <tr>\n",
       "      <th>2</th>\n",
       "      <td>BFC13E88</td>\n",
       "      <td>1990-09-12</td>\n",
       "      <td>34</td>\n",
       "      <td>59863.77</td>\n",
       "      <td>24567</td>\n",
       "      <td>10323.0</td>\n",
       "      <td>4590.0</td>\n",
       "      <td>8469.0</td>\n",
       "      <td>1185.0</td>\n",
       "      <td>2018-04-25</td>\n",
       "      <td>2018-02-04</td>\n",
       "      <td>24567.0</td>\n",
       "      <td>24567.0</td>\n",
       "    </tr>\n",
       "    <tr>\n",
       "      <th>3</th>\n",
       "      <td>F2158F66</td>\n",
       "      <td>1985-11-03</td>\n",
       "      <td>35</td>\n",
       "      <td>84132.10</td>\n",
       "      <td>23712</td>\n",
       "      <td>3908.0</td>\n",
       "      <td>492.0</td>\n",
       "      <td>6482.0</td>\n",
       "      <td>12830.0</td>\n",
       "      <td>2017-07-11</td>\n",
       "      <td>2018-08-11</td>\n",
       "      <td>23712.0</td>\n",
       "      <td>23712.0</td>\n",
       "    </tr>\n",
       "    <tr>\n",
       "      <th>4</th>\n",
       "      <td>7A73F334</td>\n",
       "      <td>1990-05-17</td>\n",
       "      <td>30</td>\n",
       "      <td>120512.00</td>\n",
       "      <td>93230</td>\n",
       "      <td>12158.4</td>\n",
       "      <td>51281.0</td>\n",
       "      <td>13434.0</td>\n",
       "      <td>18383.0</td>\n",
       "      <td>2018-05-14</td>\n",
       "      <td>2018-07-19</td>\n",
       "      <td>95256.4</td>\n",
       "      <td>95256.4</td>\n",
       "    </tr>\n",
       "  </tbody>\n",
       "</table>\n",
       "</div>"
      ],
      "text/plain": [
       "    cust_id birth_date  Age  acct_amount  inv_amount   fund_A   fund_B  \\\n",
       "0  870A9281 1962-06-09   58     63523.31       51295  30105.0   4138.0   \n",
       "1  166B05B0 1962-12-16   58     38175.46       15050   4995.0    938.0   \n",
       "2  BFC13E88 1990-09-12   34     59863.77       24567  10323.0   4590.0   \n",
       "3  F2158F66 1985-11-03   35     84132.10       23712   3908.0    492.0   \n",
       "4  7A73F334 1990-05-17   30    120512.00       93230  12158.4  51281.0   \n",
       "\n",
       "    fund_C   fund_D account_opened last_transaction   amount  calculated_amt  \n",
       "0   1420.0  15632.0     2018-02-09       2019-02-22  51295.0         51295.0  \n",
       "1   6696.0   2421.0     2019-02-28       2018-10-31  15050.0         15050.0  \n",
       "2   8469.0   1185.0     2018-04-25       2018-02-04  24567.0         24567.0  \n",
       "3   6482.0  12830.0     2017-07-11       2018-08-11  23712.0         23712.0  \n",
       "4  13434.0  18383.0     2018-05-14       2018-07-19  95256.4         95256.4  "
      ]
     },
     "execution_count": 36,
     "metadata": {},
     "output_type": "execute_result"
    }
   ],
   "source": [
    "# lets check for frauds\n",
    "df['calculated_amt']=df.fund_A+df.fund_B+df.fund_C+df.fund_D\n",
    "df.head()"
   ]
  },
  {
   "cell_type": "code",
   "execution_count": 37,
   "metadata": {},
   "outputs": [
    {
     "ename": "ValueError",
     "evalue": "The truth value of a Series is ambiguous. Use a.empty, a.bool(), a.item(), a.any() or a.all().",
     "output_type": "error",
     "traceback": [
      "\u001b[1;31m---------------------------------------------------------------------------\u001b[0m",
      "\u001b[1;31mValueError\u001b[0m                                Traceback (most recent call last)",
      "\u001b[1;32m<ipython-input-37-8287206611b1>\u001b[0m in \u001b[0;36m<module>\u001b[1;34m\u001b[0m\n\u001b[1;32m----> 1\u001b[1;33m \u001b[1;32mif\u001b[0m \u001b[0mdf\u001b[0m\u001b[1;33m.\u001b[0m\u001b[0mcalculated_amt\u001b[0m \u001b[1;33m!=\u001b[0m \u001b[0mdf\u001b[0m\u001b[1;33m.\u001b[0m\u001b[0minv_amount\u001b[0m\u001b[1;33m:\u001b[0m\u001b[1;33m\u001b[0m\u001b[1;33m\u001b[0m\u001b[0m\n\u001b[0m\u001b[0;32m      2\u001b[0m     \u001b[0mdf\u001b[0m\u001b[1;33m.\u001b[0m\u001b[0minv_amount\u001b[0m\u001b[1;33m=\u001b[0m\u001b[1;34m'fraud'\u001b[0m\u001b[1;33m\u001b[0m\u001b[1;33m\u001b[0m\u001b[0m\n",
      "\u001b[1;32m~\\anaconda3\\envs\\rasa\\lib\\site-packages\\pandas\\core\\generic.py\u001b[0m in \u001b[0;36m__nonzero__\u001b[1;34m(self)\u001b[0m\n\u001b[0;32m   1477\u001b[0m     \u001b[1;32mdef\u001b[0m \u001b[0m__nonzero__\u001b[0m\u001b[1;33m(\u001b[0m\u001b[0mself\u001b[0m\u001b[1;33m)\u001b[0m\u001b[1;33m:\u001b[0m\u001b[1;33m\u001b[0m\u001b[1;33m\u001b[0m\u001b[0m\n\u001b[0;32m   1478\u001b[0m         raise ValueError(\n\u001b[1;32m-> 1479\u001b[1;33m             \u001b[1;34mf\"The truth value of a {type(self).__name__} is ambiguous. \"\u001b[0m\u001b[1;33m\u001b[0m\u001b[1;33m\u001b[0m\u001b[0m\n\u001b[0m\u001b[0;32m   1480\u001b[0m             \u001b[1;34m\"Use a.empty, a.bool(), a.item(), a.any() or a.all().\"\u001b[0m\u001b[1;33m\u001b[0m\u001b[1;33m\u001b[0m\u001b[0m\n\u001b[0;32m   1481\u001b[0m         )\n",
      "\u001b[1;31mValueError\u001b[0m: The truth value of a Series is ambiguous. Use a.empty, a.bool(), a.item(), a.any() or a.all()."
     ]
    }
   ],
   "source": [
    "df.inv_amount[lambda x: if x!=df.calculated_amt]"
   ]
  },
  {
   "cell_type": "code",
   "execution_count": null,
   "metadata": {},
   "outputs": [],
   "source": []
  },
  {
   "cell_type": "code",
   "execution_count": null,
   "metadata": {},
   "outputs": [],
   "source": []
  },
  {
   "cell_type": "code",
   "execution_count": null,
   "metadata": {},
   "outputs": [],
   "source": []
  },
  {
   "cell_type": "code",
   "execution_count": null,
   "metadata": {},
   "outputs": [],
   "source": []
  },
  {
   "cell_type": "code",
   "execution_count": null,
   "metadata": {},
   "outputs": [],
   "source": []
  },
  {
   "cell_type": "code",
   "execution_count": null,
   "metadata": {},
   "outputs": [],
   "source": []
  },
  {
   "cell_type": "code",
   "execution_count": null,
   "metadata": {},
   "outputs": [],
   "source": []
  },
  {
   "cell_type": "code",
   "execution_count": null,
   "metadata": {},
   "outputs": [],
   "source": []
  },
  {
   "cell_type": "code",
   "execution_count": null,
   "metadata": {},
   "outputs": [],
   "source": []
  },
  {
   "cell_type": "code",
   "execution_count": null,
   "metadata": {},
   "outputs": [],
   "source": []
  },
  {
   "cell_type": "code",
   "execution_count": null,
   "metadata": {},
   "outputs": [],
   "source": []
  },
  {
   "cell_type": "code",
   "execution_count": null,
   "metadata": {},
   "outputs": [],
   "source": []
  },
  {
   "cell_type": "code",
   "execution_count": null,
   "metadata": {},
   "outputs": [],
   "source": []
  },
  {
   "cell_type": "code",
   "execution_count": null,
   "metadata": {},
   "outputs": [],
   "source": []
  },
  {
   "cell_type": "code",
   "execution_count": null,
   "metadata": {},
   "outputs": [],
   "source": []
  },
  {
   "cell_type": "code",
   "execution_count": null,
   "metadata": {},
   "outputs": [],
   "source": []
  },
  {
   "cell_type": "code",
   "execution_count": null,
   "metadata": {},
   "outputs": [],
   "source": []
  },
  {
   "cell_type": "code",
   "execution_count": null,
   "metadata": {},
   "outputs": [],
   "source": []
  }
 ],
 "metadata": {
  "kernelspec": {
   "display_name": "Python 3",
   "language": "python",
   "name": "python3"
  },
  "language_info": {
   "codemirror_mode": {
    "name": "ipython",
    "version": 3
   },
   "file_extension": ".py",
   "mimetype": "text/x-python",
   "name": "python",
   "nbconvert_exporter": "python",
   "pygments_lexer": "ipython3",
   "version": "3.7.7"
  }
 },
 "nbformat": 4,
 "nbformat_minor": 4
}
